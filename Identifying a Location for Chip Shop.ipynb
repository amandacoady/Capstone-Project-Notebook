{
    "cells": [
        {
            "metadata": {
                "collapsed": true
            },
            "cell_type": "markdown",
            "source": "# Determining a Location for a Newfoundland Fish & Chips Shop"
        },
        {
            "metadata": {},
            "cell_type": "markdown",
            "source": "Newfoundland fish and chips are a favourite where I am from.  Newfoundlanders, unable to find themselves jobs at home, have left the island to work in other provinces, many finding themselves in northern Alberta and southern Ontario.  This will be my attempt at finding an ideal location, in Toronto, for my Newfoundland fish and chips shop to bring old-fashioned, East-Coast cooking to those living so far from home."
        },
        {
            "metadata": {},
            "cell_type": "code",
            "source": "# As always, I loaded the libraries I will need to run the code.\n\nimport pandas as pd # I imported pandas and set my display limits as before.\npd.set_option('display.max_columns', None)\npd.set_option('display.max_rows', None)\n\nfrom pandas.io.json import json_normalize # I need this to work with JSON and convert the data to a dataframe.\n\nimport numpy as np # I imporeted NumPy.\n\nimport json # I imported json.\n\nfrom geopy.geocoders import Nominatim # I imported geopy.\n\nimport requests # I imported requests for the data to be drawn from Foursquare.\n\nprint('Done!') # I have had issues with Watson Studio lately not loading the environment properly.  I added this line to let me know if and when the process is complete.",
            "execution_count": 1,
            "outputs": [
                {
                    "output_type": "stream",
                    "text": "Done!\n",
                    "name": "stdout"
                }
            ]
        },
        {
            "metadata": {},
            "cell_type": "markdown",
            "source": "## Competition"
        },
        {
            "metadata": {},
            "cell_type": "markdown",
            "source": "The first step will be to find out if there is another business in Toronto boasting Newfoundland cooking.  This of course, will be done by drawing data from Foursquare.  A get command will be sent to the Foursquare database with Newfoundland as the venue identifier."
        },
        {
            "metadata": {},
            "cell_type": "code",
            "source": "# I fed my Foursquare credentials into Python.\n\nCLIENT_ID = 'L3FOESFPXZSNGOVOCS0XKQXA0BHFNBLK3R2EMUZMKFJ1X4GF' # My client ID.\n\nCLIENT_SECRET = 'IDR0V0BKV2IEIXVCIVT54J0N2OVLNZ3M31IRE5A2V4JE3YPP' # My client secret.\n\nVERSION = '20180605'",
            "execution_count": 2,
            "outputs": []
        },
        {
            "metadata": {},
            "cell_type": "code",
            "source": "# I fond the longitude and latitude coordinates for Toronto.\n\naddress = 'Toronto, ON'\ngeolocator = Nominatim(user_agent='ny_explorer')\nlocation = geolocator.geocode(address)\nlatitude = location.latitude\nlongitude = location.longitude\nprint('Toronto is at {}, {}.'.format(latitude, longitude))",
            "execution_count": 3,
            "outputs": [
                {
                    "output_type": "stream",
                    "text": "Toronto is at 43.6534817, -79.3839347.\n",
                    "name": "stdout"
                }
            ]
        },
        {
            "metadata": {},
            "cell_type": "code",
            "source": "# I set my desired parameters with \"Newfounlad\" as my search query.  I gave myself enough room to search, setting the radius to 5km and set the result limit to 50.\n\nsearch_query = 'Newfoundland'\nradius = 5000\nLIMIT = 50\nurl = 'https://api.foursquare.com/v2/venues/search?client_id={}&client_secret={}&ll={},{}&v={}&query={}&radius={}&limit={}'.format(CLIENT_ID, CLIENT_SECRET,latitude, longitude, VERSION, search_query, radius, LIMIT)\nurl",
            "execution_count": 4,
            "outputs": [
                {
                    "output_type": "execute_result",
                    "execution_count": 4,
                    "data": {
                        "text/plain": "'https://api.foursquare.com/v2/venues/search?client_id=L3FOESFPXZSNGOVOCS0XKQXA0BHFNBLK3R2EMUZMKFJ1X4GF&client_secret=IDR0V0BKV2IEIXVCIVT54J0N2OVLNZ3M31IRE5A2V4JE3YPP&ll=43.6534817,-79.3839347&v=20180605&query=Newfoundland&radius=5000&limit=50'"
                    },
                    "metadata": {}
                }
            ]
        },
        {
            "metadata": {},
            "cell_type": "code",
            "source": "# I requested the result in JSON form.\n\ncompetition_results = requests.get(url).json()",
            "execution_count": 5,
            "outputs": []
        },
        {
            "metadata": {},
            "cell_type": "code",
            "source": "# I assigned what was relevant to the identifier 'competition'.\n\ncompetition = competition_results['response']['venues']",
            "execution_count": 6,
            "outputs": []
        },
        {
            "metadata": {},
            "cell_type": "code",
            "source": "# I transformed competition into a dataframe.\n\ncompetition_df = json_normalize(competition)\ncompetition_df.head()",
            "execution_count": 7,
            "outputs": [
                {
                    "output_type": "execute_result",
                    "execution_count": 7,
                    "data": {
                        "text/plain": "                                          categories  hasPerk  \\\n0  [{'id': '4bf58dd8d48988d1f9931735', 'name': 'R...    False   \n1  [{'id': '4bf58dd8d48988d128951735', 'name': 'G...    False   \n\n                         id location.address location.cc location.city  \\\n0  4c9136fe51d9b1f760a27e46       Lake Shore          CA       Toronto   \n1  5cd7262131ac6c002ca05388  1537 Queen St W          CA       Toronto   \n\n  location.country location.crossStreet  location.distance  \\\n0           Canada         Newfoundland               3192   \n1           Canada                  NaN               4998   \n\n                         location.formattedAddress  \\\n0  [Lake Shore (Newfoundland), Toronto ON, Canada]   \n1    [1537 Queen St W, Toronto ON M6R 1A7, Canada]   \n\n                             location.labeledLatLngs  location.lat  \\\n0  [{'label': 'display', 'lat': 43.632488, 'lng':...     43.632488   \n1  [{'label': 'display', 'lat': 43.639311, 'lng':...     43.639311   \n\n   location.lng location.postalCode location.state  \\\n0    -79.410939                 NaN             ON   \n1    -79.442812             M6R 1A7             ON   \n\n                           name    referralId  \n0  Lake Shore & Newfoundland rd  v-1592781374  \n1        The Newfoundland Store  v-1592781374  ",
                        "text/html": "<div>\n<style scoped>\n    .dataframe tbody tr th:only-of-type {\n        vertical-align: middle;\n    }\n\n    .dataframe tbody tr th {\n        vertical-align: top;\n    }\n\n    .dataframe thead th {\n        text-align: right;\n    }\n</style>\n<table border=\"1\" class=\"dataframe\">\n  <thead>\n    <tr style=\"text-align: right;\">\n      <th></th>\n      <th>categories</th>\n      <th>hasPerk</th>\n      <th>id</th>\n      <th>location.address</th>\n      <th>location.cc</th>\n      <th>location.city</th>\n      <th>location.country</th>\n      <th>location.crossStreet</th>\n      <th>location.distance</th>\n      <th>location.formattedAddress</th>\n      <th>location.labeledLatLngs</th>\n      <th>location.lat</th>\n      <th>location.lng</th>\n      <th>location.postalCode</th>\n      <th>location.state</th>\n      <th>name</th>\n      <th>referralId</th>\n    </tr>\n  </thead>\n  <tbody>\n    <tr>\n      <th>0</th>\n      <td>[{'id': '4bf58dd8d48988d1f9931735', 'name': 'R...</td>\n      <td>False</td>\n      <td>4c9136fe51d9b1f760a27e46</td>\n      <td>Lake Shore</td>\n      <td>CA</td>\n      <td>Toronto</td>\n      <td>Canada</td>\n      <td>Newfoundland</td>\n      <td>3192</td>\n      <td>[Lake Shore (Newfoundland), Toronto ON, Canada]</td>\n      <td>[{'label': 'display', 'lat': 43.632488, 'lng':...</td>\n      <td>43.632488</td>\n      <td>-79.410939</td>\n      <td>NaN</td>\n      <td>ON</td>\n      <td>Lake Shore &amp; Newfoundland rd</td>\n      <td>v-1592781374</td>\n    </tr>\n    <tr>\n      <th>1</th>\n      <td>[{'id': '4bf58dd8d48988d128951735', 'name': 'G...</td>\n      <td>False</td>\n      <td>5cd7262131ac6c002ca05388</td>\n      <td>1537 Queen St W</td>\n      <td>CA</td>\n      <td>Toronto</td>\n      <td>Canada</td>\n      <td>NaN</td>\n      <td>4998</td>\n      <td>[1537 Queen St W, Toronto ON M6R 1A7, Canada]</td>\n      <td>[{'label': 'display', 'lat': 43.639311, 'lng':...</td>\n      <td>43.639311</td>\n      <td>-79.442812</td>\n      <td>M6R 1A7</td>\n      <td>ON</td>\n      <td>The Newfoundland Store</td>\n      <td>v-1592781374</td>\n    </tr>\n  </tbody>\n</table>\n</div>"
                    },
                    "metadata": {}
                }
            ]
        },
        {
            "metadata": {},
            "cell_type": "code",
            "source": "# I filtered out the unnecessary data from the dataframe.\n\nfiltered_competition = ['name', 'categories', 'location.lat', 'location.lng', 'location.postalCode']\ncompetition_filtered = competition_df.loc[:, filtered_competition]",
            "execution_count": 8,
            "outputs": []
        },
        {
            "metadata": {},
            "cell_type": "code",
            "source": "# I extracted the category of the venue.\n\ndef get_category_type(row):\n    try:\n        categories_list = row['categories']\n    except:\n        categories_list = row['venue.categories']\n    if len(categories_list) == 0:\n        return None\n    else:\n        return categories_list[0]['name']",
            "execution_count": 9,
            "outputs": []
        },
        {
            "metadata": {},
            "cell_type": "code",
            "source": "# I filtered the category for each row.\n\ncompetition_filtered['categories'] = competition_filtered.apply(get_category_type,axis=1)",
            "execution_count": 10,
            "outputs": []
        },
        {
            "metadata": {},
            "cell_type": "code",
            "source": "# Cleaned up the data.\n\ncompetition_filtered.columns = [column.split('.')[-1] for column in competition_filtered.columns]\ncompetition_filtered",
            "execution_count": 11,
            "outputs": [
                {
                    "output_type": "execute_result",
                    "execution_count": 11,
                    "data": {
                        "text/plain": "                           name categories        lat        lng postalCode\n0  Lake Shore & Newfoundland rd       Road  43.632488 -79.410939        NaN\n1        The Newfoundland Store  Gift Shop  43.639311 -79.442812    M6R 1A7",
                        "text/html": "<div>\n<style scoped>\n    .dataframe tbody tr th:only-of-type {\n        vertical-align: middle;\n    }\n\n    .dataframe tbody tr th {\n        vertical-align: top;\n    }\n\n    .dataframe thead th {\n        text-align: right;\n    }\n</style>\n<table border=\"1\" class=\"dataframe\">\n  <thead>\n    <tr style=\"text-align: right;\">\n      <th></th>\n      <th>name</th>\n      <th>categories</th>\n      <th>lat</th>\n      <th>lng</th>\n      <th>postalCode</th>\n    </tr>\n  </thead>\n  <tbody>\n    <tr>\n      <th>0</th>\n      <td>Lake Shore &amp; Newfoundland rd</td>\n      <td>Road</td>\n      <td>43.632488</td>\n      <td>-79.410939</td>\n      <td>NaN</td>\n    </tr>\n    <tr>\n      <th>1</th>\n      <td>The Newfoundland Store</td>\n      <td>Gift Shop</td>\n      <td>43.639311</td>\n      <td>-79.442812</td>\n      <td>M6R 1A7</td>\n    </tr>\n  </tbody>\n</table>\n</div>"
                    },
                    "metadata": {}
                }
            ]
        },
        {
            "metadata": {},
            "cell_type": "markdown",
            "source": "## Review of the Results"
        },
        {
            "metadata": {},
            "cell_type": "markdown",
            "source": "From the results, I saw that two entries were returned; one entry was the name of a road in Toronto, \"Newfoundland Road\", while the other was, happily, a Newfoundland gift shop in the city.  There was, therefore, no competition for my chip shop.  So, I decided to check Foursquare for \"fish & chips\"."
        },
        {
            "metadata": {},
            "cell_type": "code",
            "source": "# I ran the 'fish & chips' search.\n\nsearch_query2 = 'fish & chips'\nradius = 5000\nLIMIT = 50\nurl = 'https://api.foursquare.com/v2/venues/search?client_id={}&client_secret={}&ll={},{}&v={}&query={}&radius={}&limit={}'.format(CLIENT_ID, CLIENT_SECRET,latitude, longitude, VERSION, search_query2, radius, LIMIT)\nurl",
            "execution_count": 12,
            "outputs": [
                {
                    "output_type": "execute_result",
                    "execution_count": 12,
                    "data": {
                        "text/plain": "'https://api.foursquare.com/v2/venues/search?client_id=L3FOESFPXZSNGOVOCS0XKQXA0BHFNBLK3R2EMUZMKFJ1X4GF&client_secret=IDR0V0BKV2IEIXVCIVT54J0N2OVLNZ3M31IRE5A2V4JE3YPP&ll=43.6534817,-79.3839347&v=20180605&query=fish & chips&radius=5000&limit=50'"
                    },
                    "metadata": {}
                }
            ]
        },
        {
            "metadata": {},
            "cell_type": "code",
            "source": "# I processed the data the same as before.\n\nfish_results = requests.get(url).json()\n\nfish_competition = fish_results['response']['venues']\n\nfish_df = json_normalize(fish_competition)\n\nfiltered_fish = ['name', 'categories', 'location.lat', 'location.lng', 'location.postalCode']\n\nfishy_competition = fish_df.loc[:, filtered_fish]\n\ndef get_category_type(row):\n    try:\n        categories_list = row['categories']\n    except:\n        categories_list = row['venue.categories']\n    if len(categories_list) == 0:\n        return None\n    else:\n        return categories_list[0]['name']\n    \nfishy_competition['categories'] = fishy_competition.apply(get_category_type,axis=1)\n\nfishy_competition.columns = [column.split('.')[-1] for column in fishy_competition.columns]\n\nprint('This is what I found:')\n\nfishy_competition.head(10)",
            "execution_count": 13,
            "outputs": [
                {
                    "output_type": "stream",
                    "text": "This is what I found:\n",
                    "name": "stdout"
                },
                {
                    "output_type": "execute_result",
                    "execution_count": 13,
                    "data": {
                        "text/plain": "                           name          categories        lat        lng  \\\n0   London Style Fish And Chips          Food Court  43.655236 -79.381628   \n1      St. Lawrence Fish Market         Fish Market  43.648490 -79.371470   \n2  Captain Cookies Fish & Chips   Fish & Chips Shop  43.656492 -79.365291   \n3             The Battered Fish   Fish & Chips Shop  43.650196 -79.389754   \n4                   Fish Noodle        Noodle House  43.659476 -79.393680   \n5         Coral Sea Fish Market         Fish Market  43.654620 -79.401517   \n6         Fresco's Fish & Chips   Fish & Chips Shop  43.654145 -79.401803   \n7                   Square Fish  Seafood Restaurant  43.648451 -79.397267   \n8          Asiya Fish and Chips   Fish & Chips Shop  43.664519 -79.380276   \n9      Time Square Fish & Chips   Fish & Chips Shop  43.648269 -79.370274   \n\n  postalCode  \n0    M5H 3S4  \n1        NaN  \n2        NaN  \n3        NaN  \n4    M5T 1L1  \n5        NaN  \n6    M5T 2L4  \n7    M5V 2A9  \n8        M4Y  \n9        NaN  ",
                        "text/html": "<div>\n<style scoped>\n    .dataframe tbody tr th:only-of-type {\n        vertical-align: middle;\n    }\n\n    .dataframe tbody tr th {\n        vertical-align: top;\n    }\n\n    .dataframe thead th {\n        text-align: right;\n    }\n</style>\n<table border=\"1\" class=\"dataframe\">\n  <thead>\n    <tr style=\"text-align: right;\">\n      <th></th>\n      <th>name</th>\n      <th>categories</th>\n      <th>lat</th>\n      <th>lng</th>\n      <th>postalCode</th>\n    </tr>\n  </thead>\n  <tbody>\n    <tr>\n      <th>0</th>\n      <td>London Style Fish And Chips</td>\n      <td>Food Court</td>\n      <td>43.655236</td>\n      <td>-79.381628</td>\n      <td>M5H 3S4</td>\n    </tr>\n    <tr>\n      <th>1</th>\n      <td>St. Lawrence Fish Market</td>\n      <td>Fish Market</td>\n      <td>43.648490</td>\n      <td>-79.371470</td>\n      <td>NaN</td>\n    </tr>\n    <tr>\n      <th>2</th>\n      <td>Captain Cookies Fish &amp; Chips</td>\n      <td>Fish &amp; Chips Shop</td>\n      <td>43.656492</td>\n      <td>-79.365291</td>\n      <td>NaN</td>\n    </tr>\n    <tr>\n      <th>3</th>\n      <td>The Battered Fish</td>\n      <td>Fish &amp; Chips Shop</td>\n      <td>43.650196</td>\n      <td>-79.389754</td>\n      <td>NaN</td>\n    </tr>\n    <tr>\n      <th>4</th>\n      <td>Fish Noodle</td>\n      <td>Noodle House</td>\n      <td>43.659476</td>\n      <td>-79.393680</td>\n      <td>M5T 1L1</td>\n    </tr>\n    <tr>\n      <th>5</th>\n      <td>Coral Sea Fish Market</td>\n      <td>Fish Market</td>\n      <td>43.654620</td>\n      <td>-79.401517</td>\n      <td>NaN</td>\n    </tr>\n    <tr>\n      <th>6</th>\n      <td>Fresco's Fish &amp; Chips</td>\n      <td>Fish &amp; Chips Shop</td>\n      <td>43.654145</td>\n      <td>-79.401803</td>\n      <td>M5T 2L4</td>\n    </tr>\n    <tr>\n      <th>7</th>\n      <td>Square Fish</td>\n      <td>Seafood Restaurant</td>\n      <td>43.648451</td>\n      <td>-79.397267</td>\n      <td>M5V 2A9</td>\n    </tr>\n    <tr>\n      <th>8</th>\n      <td>Asiya Fish and Chips</td>\n      <td>Fish &amp; Chips Shop</td>\n      <td>43.664519</td>\n      <td>-79.380276</td>\n      <td>M4Y</td>\n    </tr>\n    <tr>\n      <th>9</th>\n      <td>Time Square Fish &amp; Chips</td>\n      <td>Fish &amp; Chips Shop</td>\n      <td>43.648269</td>\n      <td>-79.370274</td>\n      <td>NaN</td>\n    </tr>\n  </tbody>\n</table>\n</div>"
                    },
                    "metadata": {}
                }
            ]
        },
        {
            "metadata": {},
            "cell_type": "code",
            "source": "# I dropped all results with categories other than 'Fish & Chips Shop'.\n\nchips_shops = fishy_competition[fishy_competition.categories == 'Fish & Chips Shop']\nchips_shops",
            "execution_count": 14,
            "outputs": [
                {
                    "output_type": "execute_result",
                    "execution_count": 14,
                    "data": {
                        "text/plain": "                               name         categories        lat        lng  \\\n2      Captain Cookies Fish & Chips  Fish & Chips Shop  43.656492 -79.365291   \n3                 The Battered Fish  Fish & Chips Shop  43.650196 -79.389754   \n6             Fresco's Fish & Chips  Fish & Chips Shop  43.654145 -79.401803   \n8              Asiya Fish and Chips  Fish & Chips Shop  43.664519 -79.380276   \n9          Time Square Fish & Chips  Fish & Chips Shop  43.648269 -79.370274   \n13         Beer Batter Fish & Chips  Fish & Chips Shop  43.663846 -79.370442   \n19           Harbord Fish and Chips  Fish & Chips Shop  43.662197 -79.406512   \n27          Reliable fish and chips  Fish & Chips Shop  43.658400 -79.351602   \n31         Sea Witch Fish and Chips  Fish & Chips Shop  43.682112 -79.423975   \n35  john & sons fish and chips shop  Fish & Chips Shop  43.685818 -79.393126   \n36               B&B Fish and Chips  Fish & Chips Shop  43.662114 -79.335313   \n39          Fresco's Fish and Chips  Fish & Chips Shop  43.680831 -79.430487   \n43       British Style Fish & Chips  Fish & Chips Shop  43.668723 -79.317139   \n\n   postalCode  \n2         NaN  \n3         NaN  \n6     M5T 2L4  \n8         M4Y  \n9         NaN  \n13    M5A 2L1  \n19        NaN  \n27        NaN  \n31    M6C 1A9  \n35        NaN  \n36    M4M 1K8  \n39    M6C 1B6  \n43    M4L 3A7  ",
                        "text/html": "<div>\n<style scoped>\n    .dataframe tbody tr th:only-of-type {\n        vertical-align: middle;\n    }\n\n    .dataframe tbody tr th {\n        vertical-align: top;\n    }\n\n    .dataframe thead th {\n        text-align: right;\n    }\n</style>\n<table border=\"1\" class=\"dataframe\">\n  <thead>\n    <tr style=\"text-align: right;\">\n      <th></th>\n      <th>name</th>\n      <th>categories</th>\n      <th>lat</th>\n      <th>lng</th>\n      <th>postalCode</th>\n    </tr>\n  </thead>\n  <tbody>\n    <tr>\n      <th>2</th>\n      <td>Captain Cookies Fish &amp; Chips</td>\n      <td>Fish &amp; Chips Shop</td>\n      <td>43.656492</td>\n      <td>-79.365291</td>\n      <td>NaN</td>\n    </tr>\n    <tr>\n      <th>3</th>\n      <td>The Battered Fish</td>\n      <td>Fish &amp; Chips Shop</td>\n      <td>43.650196</td>\n      <td>-79.389754</td>\n      <td>NaN</td>\n    </tr>\n    <tr>\n      <th>6</th>\n      <td>Fresco's Fish &amp; Chips</td>\n      <td>Fish &amp; Chips Shop</td>\n      <td>43.654145</td>\n      <td>-79.401803</td>\n      <td>M5T 2L4</td>\n    </tr>\n    <tr>\n      <th>8</th>\n      <td>Asiya Fish and Chips</td>\n      <td>Fish &amp; Chips Shop</td>\n      <td>43.664519</td>\n      <td>-79.380276</td>\n      <td>M4Y</td>\n    </tr>\n    <tr>\n      <th>9</th>\n      <td>Time Square Fish &amp; Chips</td>\n      <td>Fish &amp; Chips Shop</td>\n      <td>43.648269</td>\n      <td>-79.370274</td>\n      <td>NaN</td>\n    </tr>\n    <tr>\n      <th>13</th>\n      <td>Beer Batter Fish &amp; Chips</td>\n      <td>Fish &amp; Chips Shop</td>\n      <td>43.663846</td>\n      <td>-79.370442</td>\n      <td>M5A 2L1</td>\n    </tr>\n    <tr>\n      <th>19</th>\n      <td>Harbord Fish and Chips</td>\n      <td>Fish &amp; Chips Shop</td>\n      <td>43.662197</td>\n      <td>-79.406512</td>\n      <td>NaN</td>\n    </tr>\n    <tr>\n      <th>27</th>\n      <td>Reliable fish and chips</td>\n      <td>Fish &amp; Chips Shop</td>\n      <td>43.658400</td>\n      <td>-79.351602</td>\n      <td>NaN</td>\n    </tr>\n    <tr>\n      <th>31</th>\n      <td>Sea Witch Fish and Chips</td>\n      <td>Fish &amp; Chips Shop</td>\n      <td>43.682112</td>\n      <td>-79.423975</td>\n      <td>M6C 1A9</td>\n    </tr>\n    <tr>\n      <th>35</th>\n      <td>john &amp; sons fish and chips shop</td>\n      <td>Fish &amp; Chips Shop</td>\n      <td>43.685818</td>\n      <td>-79.393126</td>\n      <td>NaN</td>\n    </tr>\n    <tr>\n      <th>36</th>\n      <td>B&amp;B Fish and Chips</td>\n      <td>Fish &amp; Chips Shop</td>\n      <td>43.662114</td>\n      <td>-79.335313</td>\n      <td>M4M 1K8</td>\n    </tr>\n    <tr>\n      <th>39</th>\n      <td>Fresco's Fish and Chips</td>\n      <td>Fish &amp; Chips Shop</td>\n      <td>43.680831</td>\n      <td>-79.430487</td>\n      <td>M6C 1B6</td>\n    </tr>\n    <tr>\n      <th>43</th>\n      <td>British Style Fish &amp; Chips</td>\n      <td>Fish &amp; Chips Shop</td>\n      <td>43.668723</td>\n      <td>-79.317139</td>\n      <td>M4L 3A7</td>\n    </tr>\n  </tbody>\n</table>\n</div>"
                    },
                    "metadata": {}
                }
            ]
        },
        {
            "metadata": {},
            "cell_type": "markdown",
            "source": "## Incorporating Population Data for Tornoto."
        },
        {
            "metadata": {},
            "cell_type": "markdown",
            "source": "I retrieved Toronto postal code coordinates from a previous Coursera lab."
        },
        {
            "metadata": {},
            "cell_type": "code",
            "source": "# Using data provided by a previous Coursera lab, I added the coordinates of the postal codes to the dataframe.\n\ncoordinates_data = pd.read_csv(\"http://cocl.us/Geospatial_data/Geospacial_coordinates.csv\")\ncoordinates_df = coordinates_data\ncoordinates_df.head()",
            "execution_count": 15,
            "outputs": [
                {
                    "output_type": "execute_result",
                    "execution_count": 15,
                    "data": {
                        "text/plain": "  Postal Code   Latitude  Longitude\n0         M1B  43.806686 -79.194353\n1         M1C  43.784535 -79.160497\n2         M1E  43.763573 -79.188711\n3         M1G  43.770992 -79.216917\n4         M1H  43.773136 -79.239476",
                        "text/html": "<div>\n<style scoped>\n    .dataframe tbody tr th:only-of-type {\n        vertical-align: middle;\n    }\n\n    .dataframe tbody tr th {\n        vertical-align: top;\n    }\n\n    .dataframe thead th {\n        text-align: right;\n    }\n</style>\n<table border=\"1\" class=\"dataframe\">\n  <thead>\n    <tr style=\"text-align: right;\">\n      <th></th>\n      <th>Postal Code</th>\n      <th>Latitude</th>\n      <th>Longitude</th>\n    </tr>\n  </thead>\n  <tbody>\n    <tr>\n      <th>0</th>\n      <td>M1B</td>\n      <td>43.806686</td>\n      <td>-79.194353</td>\n    </tr>\n    <tr>\n      <th>1</th>\n      <td>M1C</td>\n      <td>43.784535</td>\n      <td>-79.160497</td>\n    </tr>\n    <tr>\n      <th>2</th>\n      <td>M1E</td>\n      <td>43.763573</td>\n      <td>-79.188711</td>\n    </tr>\n    <tr>\n      <th>3</th>\n      <td>M1G</td>\n      <td>43.770992</td>\n      <td>-79.216917</td>\n    </tr>\n    <tr>\n      <th>4</th>\n      <td>M1H</td>\n      <td>43.773136</td>\n      <td>-79.239476</td>\n    </tr>\n  </tbody>\n</table>\n</div>"
                    },
                    "metadata": {}
                }
            ]
        },
        {
            "metadata": {},
            "cell_type": "markdown",
            "source": "Population data, by postal code as it happens, is provided by StatCan on their website."
        },
        {
            "metadata": {},
            "cell_type": "code",
            "source": "# I pulled the data from the website and created a dataframe.\n\npopulation_by_code = pd.read_html(\"https://www12.statcan.gc.ca/census-recensement/2016/dp-pd/hlt-fst/pd-pl/Table.cfm?Lang=Eng&T=1201&SR=1&S=22&O=A&RPP=9999&PR=0\")\npopulation_df = population_by_code[0]\npopulation_df.head()",
            "execution_count": 16,
            "outputs": [
                {
                    "output_type": "execute_result",
                    "execution_count": 16,
                    "data": {
                        "text/plain": "    Geographic name  Population, 2016  Total private dwellings, 2016  \\\n0               NaN               NaN                            NaN   \n1  CanadaFootnote 1        35151728.0                     15412443.0   \n2               A0A           46587.0                        26155.0   \n3               A0B           19792.0                        13658.0   \n4               A0C           12587.0                         8010.0   \n\n   Private dwellings occupied by usual residents, 2016  \n0                                                NaN    \n1                                         14072079.0    \n2                                            19426.0    \n3                                             8792.0    \n4                                             5606.0    ",
                        "text/html": "<div>\n<style scoped>\n    .dataframe tbody tr th:only-of-type {\n        vertical-align: middle;\n    }\n\n    .dataframe tbody tr th {\n        vertical-align: top;\n    }\n\n    .dataframe thead th {\n        text-align: right;\n    }\n</style>\n<table border=\"1\" class=\"dataframe\">\n  <thead>\n    <tr style=\"text-align: right;\">\n      <th></th>\n      <th>Geographic name</th>\n      <th>Population, 2016</th>\n      <th>Total private dwellings, 2016</th>\n      <th>Private dwellings occupied by usual residents, 2016</th>\n    </tr>\n  </thead>\n  <tbody>\n    <tr>\n      <th>0</th>\n      <td>NaN</td>\n      <td>NaN</td>\n      <td>NaN</td>\n      <td>NaN</td>\n    </tr>\n    <tr>\n      <th>1</th>\n      <td>CanadaFootnote 1</td>\n      <td>35151728.0</td>\n      <td>15412443.0</td>\n      <td>14072079.0</td>\n    </tr>\n    <tr>\n      <th>2</th>\n      <td>A0A</td>\n      <td>46587.0</td>\n      <td>26155.0</td>\n      <td>19426.0</td>\n    </tr>\n    <tr>\n      <th>3</th>\n      <td>A0B</td>\n      <td>19792.0</td>\n      <td>13658.0</td>\n      <td>8792.0</td>\n    </tr>\n    <tr>\n      <th>4</th>\n      <td>A0C</td>\n      <td>12587.0</td>\n      <td>8010.0</td>\n      <td>5606.0</td>\n    </tr>\n  </tbody>\n</table>\n</div>"
                    },
                    "metadata": {}
                }
            ]
        },
        {
            "metadata": {},
            "cell_type": "code",
            "source": "# I dropped all unnecessary postal codes, because the website accounted for all of Canada.\n\npopulation = population_df[:-645]\npopulation = population_df.drop(population_df.index[0:896])",
            "execution_count": 17,
            "outputs": []
        },
        {
            "metadata": {},
            "cell_type": "code",
            "source": "# Again, I had to drop all unnecessary columns from the new dataframe and normalize it to the previous one.\n\npopulation = population.drop(['Total private dwellings, 2016', 'Private dwellings occupied by usual residents, 2016'], axis=1)\npopulation = population.rename(columns={'Geographic name': 'Postal Code'})\npopulation.head()",
            "execution_count": 18,
            "outputs": [
                {
                    "output_type": "execute_result",
                    "execution_count": 18,
                    "data": {
                        "text/plain": "    Postal Code  Population, 2016\n896         M1B           66108.0\n897         M1C           35626.0\n898         M1E           46943.0\n899         M1G           29690.0\n900         M1H           24383.0",
                        "text/html": "<div>\n<style scoped>\n    .dataframe tbody tr th:only-of-type {\n        vertical-align: middle;\n    }\n\n    .dataframe tbody tr th {\n        vertical-align: top;\n    }\n\n    .dataframe thead th {\n        text-align: right;\n    }\n</style>\n<table border=\"1\" class=\"dataframe\">\n  <thead>\n    <tr style=\"text-align: right;\">\n      <th></th>\n      <th>Postal Code</th>\n      <th>Population, 2016</th>\n    </tr>\n  </thead>\n  <tbody>\n    <tr>\n      <th>896</th>\n      <td>M1B</td>\n      <td>66108.0</td>\n    </tr>\n    <tr>\n      <th>897</th>\n      <td>M1C</td>\n      <td>35626.0</td>\n    </tr>\n    <tr>\n      <th>898</th>\n      <td>M1E</td>\n      <td>46943.0</td>\n    </tr>\n    <tr>\n      <th>899</th>\n      <td>M1G</td>\n      <td>29690.0</td>\n    </tr>\n    <tr>\n      <th>900</th>\n      <td>M1H</td>\n      <td>24383.0</td>\n    </tr>\n  </tbody>\n</table>\n</div>"
                    },
                    "metadata": {}
                }
            ]
        },
        {
            "metadata": {},
            "cell_type": "code",
            "source": "# I merged the two dataframes together.\n\npop_coords = pd.merge(population, coordinates_df, on='Postal Code')\npop_coords.head()",
            "execution_count": 19,
            "outputs": [
                {
                    "output_type": "execute_result",
                    "execution_count": 19,
                    "data": {
                        "text/plain": "  Postal Code  Population, 2016   Latitude  Longitude\n0         M1B           66108.0  43.806686 -79.194353\n1         M1C           35626.0  43.784535 -79.160497\n2         M1E           46943.0  43.763573 -79.188711\n3         M1G           29690.0  43.770992 -79.216917\n4         M1H           24383.0  43.773136 -79.239476",
                        "text/html": "<div>\n<style scoped>\n    .dataframe tbody tr th:only-of-type {\n        vertical-align: middle;\n    }\n\n    .dataframe tbody tr th {\n        vertical-align: top;\n    }\n\n    .dataframe thead th {\n        text-align: right;\n    }\n</style>\n<table border=\"1\" class=\"dataframe\">\n  <thead>\n    <tr style=\"text-align: right;\">\n      <th></th>\n      <th>Postal Code</th>\n      <th>Population, 2016</th>\n      <th>Latitude</th>\n      <th>Longitude</th>\n    </tr>\n  </thead>\n  <tbody>\n    <tr>\n      <th>0</th>\n      <td>M1B</td>\n      <td>66108.0</td>\n      <td>43.806686</td>\n      <td>-79.194353</td>\n    </tr>\n    <tr>\n      <th>1</th>\n      <td>M1C</td>\n      <td>35626.0</td>\n      <td>43.784535</td>\n      <td>-79.160497</td>\n    </tr>\n    <tr>\n      <th>2</th>\n      <td>M1E</td>\n      <td>46943.0</td>\n      <td>43.763573</td>\n      <td>-79.188711</td>\n    </tr>\n    <tr>\n      <th>3</th>\n      <td>M1G</td>\n      <td>29690.0</td>\n      <td>43.770992</td>\n      <td>-79.216917</td>\n    </tr>\n    <tr>\n      <th>4</th>\n      <td>M1H</td>\n      <td>24383.0</td>\n      <td>43.773136</td>\n      <td>-79.239476</td>\n    </tr>\n  </tbody>\n</table>\n</div>"
                    },
                    "metadata": {}
                }
            ]
        },
        {
            "metadata": {},
            "cell_type": "markdown",
            "source": "## Determining the Best Location"
        },
        {
            "metadata": {},
            "cell_type": "markdown",
            "source": "Finally, I determined what the best location for my chip shop.  I did this by determining the population centre of the population of Toronto, assuming a uniform distribution of Newfoundlanders througout the city."
        },
        {
            "metadata": {},
            "cell_type": "code",
            "source": "# To run the calculation, I had to transform the dataframe into a NumPy array.\n\npop_array = pop_coords.values",
            "execution_count": 20,
            "outputs": []
        },
        {
            "metadata": {},
            "cell_type": "code",
            "source": "# I then calculated the population centroid.\n\npop_centroid = np.mean(pop_array[:,-3:], axis=0)\npop_centroid",
            "execution_count": 21,
            "outputs": [
                {
                    "output_type": "execute_result",
                    "execution_count": 21,
                    "data": {
                        "text/plain": "array([26785.676470588234, 43.70527089215686, -79.39500912647058],\n      dtype=object)"
                    },
                    "metadata": {}
                }
            ]
        },
        {
            "metadata": {},
            "cell_type": "markdown",
            "source": "The population centre of Toronto is located at latitude 43.70, longitude -79.39, a few blocks away from The Newfoundland Store - the previously found gift shop - at latitude 43.64, longitude -79.44.  If I were to choose a location further south, I would bring my business closer to tourist attractions, including the store.  However, as I am catering to the Newfoundlanders who find themselves forced away from home, chasing work, I would select the centre of the population, providing a vast majority the easiest possible access."
        },
        {
            "metadata": {},
            "cell_type": "code",
            "source": "",
            "execution_count": null,
            "outputs": []
        }
    ],
    "metadata": {
        "kernelspec": {
            "name": "python3",
            "display_name": "Python 3.6",
            "language": "python"
        },
        "language_info": {
            "name": "python",
            "version": "3.6.9",
            "mimetype": "text/x-python",
            "codemirror_mode": {
                "name": "ipython",
                "version": 3
            },
            "pygments_lexer": "ipython3",
            "nbconvert_exporter": "python",
            "file_extension": ".py"
        }
    },
    "nbformat": 4,
    "nbformat_minor": 1
}